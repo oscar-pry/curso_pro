{
 "cells": [
  {
   "cell_type": "markdown",
   "id": "e3a81cbb",
   "metadata": {},
   "source": [
    "# Este es un documento\n",
    "## Este es un documento\n",
    "### Este es un documento"
   ]
  },
  {
   "cell_type": "code",
   "execution_count": 2,
   "id": "adeb3ae2",
   "metadata": {},
   "outputs": [
    {
     "name": "stdout",
     "output_type": "stream",
     "text": [
      "   Producto  Precio  Stock   Categoría  Vendido\n",
      "0  Camiseta   15.99     50        Ropa       20\n",
      "1  Pantalón   29.99     40        Ropa       15\n",
      "2   Zapatos   49.99     30     Calzado       10\n",
      "3     Gorra    9.99     60  Accesorios       25\n",
      "4  Chaqueta   59.99     20        Ropa        5\n"
     ]
    }
   ],
   "source": [
    "import pandas as pd\n",
    "\n",
    "# Crear una base de datos de ejemplo para un negocio\n",
    "datos = {\n",
    "    'Producto': ['Camiseta', 'Pantalón', 'Zapatos', 'Gorra', 'Chaqueta'],\n",
    "    'Precio': [15.99, 29.99, 49.99, 9.99, 59.99],\n",
    "    'Stock': [50, 40, 30, 60, 20],\n",
    "    'Categoría': ['Ropa', 'Ropa', 'Calzado', 'Accesorios', 'Ropa'],\n",
    "    'Vendido': [20, 15, 10, 25, 5]\n",
    "}\n",
    "\n",
    "df_negocio = pd.DataFrame(datos)\n",
    "print(df_negocio)"
   ]
  },
  {
   "cell_type": "code",
   "execution_count": null,
   "id": "70d58f1f",
   "metadata": {},
   "outputs": [
    {
     "name": "stdout",
     "output_type": "stream",
     "text": [
      "Producto      object\n",
      "Precio       float64\n",
      "Stock          int64\n",
      "Categoría     object\n",
      "Vendido        int64\n",
      "dtype: object\n"
     ]
    }
   ],
   "source": [
    "print(df_negocio.dtypes) "
   ]
  }
 ],
 "metadata": {
  "kernelspec": {
   "display_name": "curso_pro_IA",
   "language": "python",
   "name": "python3"
  },
  "language_info": {
   "codemirror_mode": {
    "name": "ipython",
    "version": 3
   },
   "file_extension": ".py",
   "mimetype": "text/x-python",
   "name": "python",
   "nbconvert_exporter": "python",
   "pygments_lexer": "ipython3",
   "version": "3.13.7"
  }
 },
 "nbformat": 4,
 "nbformat_minor": 5
}
