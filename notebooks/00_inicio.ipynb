{
 "cells": [
  {
   "cell_type": "markdown",
   "id": "aae72cb4",
   "metadata": {},
   "source": [
    "# 📘 Notebook Inicial\n",
    "\n",
    "Este notebook sirve para verificar que el entorno `curso_pro_IA` funciona correctamente y que las librerías principales están instaladas."
   ]
  },
  {
   "cell_type": "code",
   "execution_count": 2,
   "id": "22ccc35e",
   "metadata": {},
   "outputs": [
    {
     "name": "stdout",
     "output_type": "stream",
     "text": [
      "Versión de Python: 3.13.7 (tags/v3.13.7:bcee1c3, Aug 14 2025, 14:15:11) [MSC v.1944 64 bit (AMD64)]\n"
     ]
    }
   ],
   "source": [
    "import sys\n",
    "print('Versión de Python:', sys.version)"
   ]
  },
  {
   "cell_type": "code",
   "execution_count": 1,
   "id": "c78bf5df",
   "metadata": {},
   "outputs": [
    {
     "name": "stdout",
     "output_type": "stream",
     "text": [
      "NumPy: 2.3.2\n",
      "Pandas: 2.3.1\n",
      "Matplotlib: 3.10.5\n",
      "Seaborn: 0.13.2\n"
     ]
    }
   ],
   "source": [
    "import numpy as np\n",
    "import pandas as pd\n",
    "import matplotlib.pyplot as plt\n",
    "import seaborn as sns\n",
    "\n",
    "print('NumPy:', np.__version__)\n",
    "print('Pandas:', pd.__version__)\n",
    "print('Matplotlib:', plt.matplotlib.__version__)\n",
    "print('Seaborn:', sns.__version__)"
   ]
  },
  {
   "cell_type": "code",
   "execution_count": 3,
   "id": "b4589a29",
   "metadata": {},
   "outputs": [
    {
     "name": "stdout",
     "output_type": "stream",
     "text": [
      "Directorio actual: c:\\Users\\oskrg\\Documents\\00_CURSOS\\Python & GitHub\\Data Pro Python\\proyecto_ciencia_datos\\notebooks\n"
     ]
    }
   ],
   "source": [
    "import os\n",
    "\n",
    "print('Directorio actual:', os.getcwd())"
   ]
  },
  {
   "cell_type": "code",
   "execution_count": 4,
   "id": "84216b76",
   "metadata": {},
   "outputs": [
    {
     "name": "stdout",
     "output_type": "stream",
     "text": [
      "Directorio actual: c:\\Users\\oskrg\\Documents\\00_CURSOS\\Python & GitHub\\Data Pro Python\\proyecto_ciencia_datos\n"
     ]
    }
   ],
   "source": [
    "os.chdir('..')\n",
    "print('Directorio actual:', os.getcwd())"
   ]
  },
  {
   "cell_type": "code",
   "execution_count": 5,
   "id": "3cae7b8a",
   "metadata": {},
   "outputs": [
    {
     "data": {
      "application/vnd.microsoft.datawrangler.viewer.v0+json": {
       "columns": [
        {
         "name": "index",
         "rawType": "int64",
         "type": "integer"
        },
        {
         "name": "N° de factura",
         "rawType": "object",
         "type": "string"
        },
        {
         "name": "Fecha de factura",
         "rawType": "object",
         "type": "string"
        },
        {
         "name": "ID Cliente",
         "rawType": "float64",
         "type": "float"
        },
        {
         "name": "País",
         "rawType": "object",
         "type": "string"
        },
        {
         "name": "Cantidad",
         "rawType": "int64",
         "type": "integer"
        },
        {
         "name": "Monto",
         "rawType": "object",
         "type": "string"
        }
       ],
       "ref": "ce1ca6a9-6098-44c0-9491-b559cf940650",
       "rows": [
        [
         "0",
         "548370",
         "3/30/2021 16:14:00",
         "15528.0",
         "United Kingdom",
         "123",
         "229,33"
        ],
        [
         "1",
         "575767",
         "11/11/2021 11:11:00",
         "17348.0",
         "United Kingdom",
         "163",
         "209,73"
        ],
        [
         "2",
         "C570727",
         "10/12/2021 11:32:00",
         "12471.0",
         "Germany",
         "-1",
         "-1,45"
        ],
        [
         "3",
         "549106",
         "4/6/2021 12:08:00",
         "17045.0",
         "United Kingdom",
         "1",
         "39,95"
        ],
        [
         "4",
         "573112",
         "10/27/2021 15:33:00",
         "16416.0",
         "United Kingdom",
         "357",
         "344,83"
        ]
       ],
       "shape": {
        "columns": 6,
        "rows": 5
       }
      },
      "text/html": [
       "<div>\n",
       "<style scoped>\n",
       "    .dataframe tbody tr th:only-of-type {\n",
       "        vertical-align: middle;\n",
       "    }\n",
       "\n",
       "    .dataframe tbody tr th {\n",
       "        vertical-align: top;\n",
       "    }\n",
       "\n",
       "    .dataframe thead th {\n",
       "        text-align: right;\n",
       "    }\n",
       "</style>\n",
       "<table border=\"1\" class=\"dataframe\">\n",
       "  <thead>\n",
       "    <tr style=\"text-align: right;\">\n",
       "      <th></th>\n",
       "      <th>N° de factura</th>\n",
       "      <th>Fecha de factura</th>\n",
       "      <th>ID Cliente</th>\n",
       "      <th>País</th>\n",
       "      <th>Cantidad</th>\n",
       "      <th>Monto</th>\n",
       "    </tr>\n",
       "  </thead>\n",
       "  <tbody>\n",
       "    <tr>\n",
       "      <th>0</th>\n",
       "      <td>548370</td>\n",
       "      <td>3/30/2021 16:14:00</td>\n",
       "      <td>15528.0</td>\n",
       "      <td>United Kingdom</td>\n",
       "      <td>123</td>\n",
       "      <td>229,33</td>\n",
       "    </tr>\n",
       "    <tr>\n",
       "      <th>1</th>\n",
       "      <td>575767</td>\n",
       "      <td>11/11/2021 11:11:00</td>\n",
       "      <td>17348.0</td>\n",
       "      <td>United Kingdom</td>\n",
       "      <td>163</td>\n",
       "      <td>209,73</td>\n",
       "    </tr>\n",
       "    <tr>\n",
       "      <th>2</th>\n",
       "      <td>C570727</td>\n",
       "      <td>10/12/2021 11:32:00</td>\n",
       "      <td>12471.0</td>\n",
       "      <td>Germany</td>\n",
       "      <td>-1</td>\n",
       "      <td>-1,45</td>\n",
       "    </tr>\n",
       "    <tr>\n",
       "      <th>3</th>\n",
       "      <td>549106</td>\n",
       "      <td>4/6/2021 12:08:00</td>\n",
       "      <td>17045.0</td>\n",
       "      <td>United Kingdom</td>\n",
       "      <td>1</td>\n",
       "      <td>39,95</td>\n",
       "    </tr>\n",
       "    <tr>\n",
       "      <th>4</th>\n",
       "      <td>573112</td>\n",
       "      <td>10/27/2021 15:33:00</td>\n",
       "      <td>16416.0</td>\n",
       "      <td>United Kingdom</td>\n",
       "      <td>357</td>\n",
       "      <td>344,83</td>\n",
       "    </tr>\n",
       "  </tbody>\n",
       "</table>\n",
       "</div>"
      ],
      "text/plain": [
       "  N° de factura     Fecha de factura  ID Cliente            País  Cantidad  \\\n",
       "0        548370   3/30/2021 16:14:00     15528.0  United Kingdom       123   \n",
       "1        575767  11/11/2021 11:11:00     17348.0  United Kingdom       163   \n",
       "2       C570727  10/12/2021 11:32:00     12471.0         Germany        -1   \n",
       "3        549106    4/6/2021 12:08:00     17045.0  United Kingdom         1   \n",
       "4        573112  10/27/2021 15:33:00     16416.0  United Kingdom       357   \n",
       "\n",
       "    Monto  \n",
       "0  229,33  \n",
       "1  209,73  \n",
       "2   -1,45  \n",
       "3   39,95  \n",
       "4  344,83  "
      ]
     },
     "execution_count": 5,
     "metadata": {},
     "output_type": "execute_result"
    }
   ],
   "source": [
    "df = pd.read_csv('data/processed/datos.csv')\n",
    "df.head()"
   ]
  },
  {
   "cell_type": "code",
   "execution_count": 6,
   "id": "9761d891",
   "metadata": {},
   "outputs": [
    {
     "name": "stdout",
     "output_type": "stream",
     "text": [
      "Información general:\n",
      "<class 'pandas.core.frame.DataFrame'>\n",
      "RangeIndex: 25953 entries, 0 to 25952\n",
      "Data columns (total 6 columns):\n",
      " #   Column            Non-Null Count  Dtype  \n",
      "---  ------            --------------  -----  \n",
      " 0   N° de factura     25953 non-null  object \n",
      " 1   Fecha de factura  25953 non-null  object \n",
      " 2   ID Cliente        22229 non-null  float64\n",
      " 3   País              25953 non-null  object \n",
      " 4   Cantidad          25953 non-null  int64  \n",
      " 5   Monto             25953 non-null  object \n",
      "dtypes: float64(1), int64(1), object(4)\n",
      "memory usage: 1.2+ MB\n",
      "\n",
      "Primeras filas:\n"
     ]
    },
    {
     "data": {
      "application/vnd.microsoft.datawrangler.viewer.v0+json": {
       "columns": [
        {
         "name": "index",
         "rawType": "int64",
         "type": "integer"
        },
        {
         "name": "N° de factura",
         "rawType": "object",
         "type": "string"
        },
        {
         "name": "Fecha de factura",
         "rawType": "object",
         "type": "string"
        },
        {
         "name": "ID Cliente",
         "rawType": "float64",
         "type": "float"
        },
        {
         "name": "País",
         "rawType": "object",
         "type": "string"
        },
        {
         "name": "Cantidad",
         "rawType": "int64",
         "type": "integer"
        },
        {
         "name": "Monto",
         "rawType": "object",
         "type": "string"
        }
       ],
       "ref": "76431d86-3d11-416e-8f4f-d46b368e75d1",
       "rows": [
        [
         "0",
         "548370",
         "3/30/2021 16:14:00",
         "15528.0",
         "United Kingdom",
         "123",
         "229,33"
        ],
        [
         "1",
         "575767",
         "11/11/2021 11:11:00",
         "17348.0",
         "United Kingdom",
         "163",
         "209,73"
        ],
        [
         "2",
         "C570727",
         "10/12/2021 11:32:00",
         "12471.0",
         "Germany",
         "-1",
         "-1,45"
        ],
        [
         "3",
         "549106",
         "4/6/2021 12:08:00",
         "17045.0",
         "United Kingdom",
         "1",
         "39,95"
        ],
        [
         "4",
         "573112",
         "10/27/2021 15:33:00",
         "16416.0",
         "United Kingdom",
         "357",
         "344,83"
        ]
       ],
       "shape": {
        "columns": 6,
        "rows": 5
       }
      },
      "text/html": [
       "<div>\n",
       "<style scoped>\n",
       "    .dataframe tbody tr th:only-of-type {\n",
       "        vertical-align: middle;\n",
       "    }\n",
       "\n",
       "    .dataframe tbody tr th {\n",
       "        vertical-align: top;\n",
       "    }\n",
       "\n",
       "    .dataframe thead th {\n",
       "        text-align: right;\n",
       "    }\n",
       "</style>\n",
       "<table border=\"1\" class=\"dataframe\">\n",
       "  <thead>\n",
       "    <tr style=\"text-align: right;\">\n",
       "      <th></th>\n",
       "      <th>N° de factura</th>\n",
       "      <th>Fecha de factura</th>\n",
       "      <th>ID Cliente</th>\n",
       "      <th>País</th>\n",
       "      <th>Cantidad</th>\n",
       "      <th>Monto</th>\n",
       "    </tr>\n",
       "  </thead>\n",
       "  <tbody>\n",
       "    <tr>\n",
       "      <th>0</th>\n",
       "      <td>548370</td>\n",
       "      <td>3/30/2021 16:14:00</td>\n",
       "      <td>15528.0</td>\n",
       "      <td>United Kingdom</td>\n",
       "      <td>123</td>\n",
       "      <td>229,33</td>\n",
       "    </tr>\n",
       "    <tr>\n",
       "      <th>1</th>\n",
       "      <td>575767</td>\n",
       "      <td>11/11/2021 11:11:00</td>\n",
       "      <td>17348.0</td>\n",
       "      <td>United Kingdom</td>\n",
       "      <td>163</td>\n",
       "      <td>209,73</td>\n",
       "    </tr>\n",
       "    <tr>\n",
       "      <th>2</th>\n",
       "      <td>C570727</td>\n",
       "      <td>10/12/2021 11:32:00</td>\n",
       "      <td>12471.0</td>\n",
       "      <td>Germany</td>\n",
       "      <td>-1</td>\n",
       "      <td>-1,45</td>\n",
       "    </tr>\n",
       "    <tr>\n",
       "      <th>3</th>\n",
       "      <td>549106</td>\n",
       "      <td>4/6/2021 12:08:00</td>\n",
       "      <td>17045.0</td>\n",
       "      <td>United Kingdom</td>\n",
       "      <td>1</td>\n",
       "      <td>39,95</td>\n",
       "    </tr>\n",
       "    <tr>\n",
       "      <th>4</th>\n",
       "      <td>573112</td>\n",
       "      <td>10/27/2021 15:33:00</td>\n",
       "      <td>16416.0</td>\n",
       "      <td>United Kingdom</td>\n",
       "      <td>357</td>\n",
       "      <td>344,83</td>\n",
       "    </tr>\n",
       "  </tbody>\n",
       "</table>\n",
       "</div>"
      ],
      "text/plain": [
       "  N° de factura     Fecha de factura  ID Cliente            País  Cantidad  \\\n",
       "0        548370   3/30/2021 16:14:00     15528.0  United Kingdom       123   \n",
       "1        575767  11/11/2021 11:11:00     17348.0  United Kingdom       163   \n",
       "2       C570727  10/12/2021 11:32:00     12471.0         Germany        -1   \n",
       "3        549106    4/6/2021 12:08:00     17045.0  United Kingdom         1   \n",
       "4        573112  10/27/2021 15:33:00     16416.0  United Kingdom       357   \n",
       "\n",
       "    Monto  \n",
       "0  229,33  \n",
       "1  209,73  \n",
       "2   -1,45  \n",
       "3   39,95  \n",
       "4  344,83  "
      ]
     },
     "metadata": {},
     "output_type": "display_data"
    },
    {
     "name": "stdout",
     "output_type": "stream",
     "text": [
      "\n",
      "Estadísticas descriptivas (numéricas):\n"
     ]
    },
    {
     "data": {
      "application/vnd.microsoft.datawrangler.viewer.v0+json": {
       "columns": [
        {
         "name": "index",
         "rawType": "object",
         "type": "string"
        },
        {
         "name": "ID Cliente",
         "rawType": "float64",
         "type": "float"
        },
        {
         "name": "Cantidad",
         "rawType": "float64",
         "type": "float"
        }
       ],
       "ref": "11750706-87b8-4b49-a8cd-26cb17cde575",
       "rows": [
        [
         "count",
         "22229.0",
         "25953.0"
        ],
        [
         "mean",
         "15238.289891583066",
         "199.4740492428621"
        ],
        [
         "std",
         "1732.9816853278057",
         "1107.075808768958"
        ],
        [
         "min",
         "12346.0",
         "-80995.0"
        ],
        [
         "25%",
         "13755.0",
         "6.0"
        ],
        [
         "50%",
         "15136.0",
         "100.0"
        ],
        [
         "75%",
         "16746.0",
         "240.0"
        ],
        [
         "max",
         "18287.0",
         "80995.0"
        ]
       ],
       "shape": {
        "columns": 2,
        "rows": 8
       }
      },
      "text/html": [
       "<div>\n",
       "<style scoped>\n",
       "    .dataframe tbody tr th:only-of-type {\n",
       "        vertical-align: middle;\n",
       "    }\n",
       "\n",
       "    .dataframe tbody tr th {\n",
       "        vertical-align: top;\n",
       "    }\n",
       "\n",
       "    .dataframe thead th {\n",
       "        text-align: right;\n",
       "    }\n",
       "</style>\n",
       "<table border=\"1\" class=\"dataframe\">\n",
       "  <thead>\n",
       "    <tr style=\"text-align: right;\">\n",
       "      <th></th>\n",
       "      <th>ID Cliente</th>\n",
       "      <th>Cantidad</th>\n",
       "    </tr>\n",
       "  </thead>\n",
       "  <tbody>\n",
       "    <tr>\n",
       "      <th>count</th>\n",
       "      <td>22229.000000</td>\n",
       "      <td>25953.000000</td>\n",
       "    </tr>\n",
       "    <tr>\n",
       "      <th>mean</th>\n",
       "      <td>15238.289892</td>\n",
       "      <td>199.474049</td>\n",
       "    </tr>\n",
       "    <tr>\n",
       "      <th>std</th>\n",
       "      <td>1732.981685</td>\n",
       "      <td>1107.075809</td>\n",
       "    </tr>\n",
       "    <tr>\n",
       "      <th>min</th>\n",
       "      <td>12346.000000</td>\n",
       "      <td>-80995.000000</td>\n",
       "    </tr>\n",
       "    <tr>\n",
       "      <th>25%</th>\n",
       "      <td>13755.000000</td>\n",
       "      <td>6.000000</td>\n",
       "    </tr>\n",
       "    <tr>\n",
       "      <th>50%</th>\n",
       "      <td>15136.000000</td>\n",
       "      <td>100.000000</td>\n",
       "    </tr>\n",
       "    <tr>\n",
       "      <th>75%</th>\n",
       "      <td>16746.000000</td>\n",
       "      <td>240.000000</td>\n",
       "    </tr>\n",
       "    <tr>\n",
       "      <th>max</th>\n",
       "      <td>18287.000000</td>\n",
       "      <td>80995.000000</td>\n",
       "    </tr>\n",
       "  </tbody>\n",
       "</table>\n",
       "</div>"
      ],
      "text/plain": [
       "         ID Cliente      Cantidad\n",
       "count  22229.000000  25953.000000\n",
       "mean   15238.289892    199.474049\n",
       "std     1732.981685   1107.075809\n",
       "min    12346.000000 -80995.000000\n",
       "25%    13755.000000      6.000000\n",
       "50%    15136.000000    100.000000\n",
       "75%    16746.000000    240.000000\n",
       "max    18287.000000  80995.000000"
      ]
     },
     "metadata": {},
     "output_type": "display_data"
    },
    {
     "name": "stdout",
     "output_type": "stream",
     "text": [
      "\n",
      "Estadísticas descriptivas (objetos):\n"
     ]
    },
    {
     "data": {
      "application/vnd.microsoft.datawrangler.viewer.v0+json": {
       "columns": [
        {
         "name": "index",
         "rawType": "object",
         "type": "string"
        },
        {
         "name": "N° de factura",
         "rawType": "object",
         "type": "unknown"
        },
        {
         "name": "Fecha de factura",
         "rawType": "object",
         "type": "unknown"
        },
        {
         "name": "País",
         "rawType": "object",
         "type": "unknown"
        },
        {
         "name": "Monto",
         "rawType": "object",
         "type": "unknown"
        }
       ],
       "ref": "c554efbf-4ba8-4607-9be2-0154e6fdbae7",
       "rows": [
        [
         "count",
         "25953",
         "25953",
         "25953",
         "25953"
        ],
        [
         "unique",
         "25900",
         "23260",
         "38",
         "17540"
        ],
        [
         "top",
         "542217",
         "5/10/2021 15:05:00",
         "United Kingdom",
         "0,00"
        ],
        [
         "freq",
         "2",
         "6",
         "23542",
         "2105"
        ]
       ],
       "shape": {
        "columns": 4,
        "rows": 4
       }
      },
      "text/html": [
       "<div>\n",
       "<style scoped>\n",
       "    .dataframe tbody tr th:only-of-type {\n",
       "        vertical-align: middle;\n",
       "    }\n",
       "\n",
       "    .dataframe tbody tr th {\n",
       "        vertical-align: top;\n",
       "    }\n",
       "\n",
       "    .dataframe thead th {\n",
       "        text-align: right;\n",
       "    }\n",
       "</style>\n",
       "<table border=\"1\" class=\"dataframe\">\n",
       "  <thead>\n",
       "    <tr style=\"text-align: right;\">\n",
       "      <th></th>\n",
       "      <th>N° de factura</th>\n",
       "      <th>Fecha de factura</th>\n",
       "      <th>País</th>\n",
       "      <th>Monto</th>\n",
       "    </tr>\n",
       "  </thead>\n",
       "  <tbody>\n",
       "    <tr>\n",
       "      <th>count</th>\n",
       "      <td>25953</td>\n",
       "      <td>25953</td>\n",
       "      <td>25953</td>\n",
       "      <td>25953</td>\n",
       "    </tr>\n",
       "    <tr>\n",
       "      <th>unique</th>\n",
       "      <td>25900</td>\n",
       "      <td>23260</td>\n",
       "      <td>38</td>\n",
       "      <td>17540</td>\n",
       "    </tr>\n",
       "    <tr>\n",
       "      <th>top</th>\n",
       "      <td>542217</td>\n",
       "      <td>5/10/2021 15:05:00</td>\n",
       "      <td>United Kingdom</td>\n",
       "      <td>0,00</td>\n",
       "    </tr>\n",
       "    <tr>\n",
       "      <th>freq</th>\n",
       "      <td>2</td>\n",
       "      <td>6</td>\n",
       "      <td>23542</td>\n",
       "      <td>2105</td>\n",
       "    </tr>\n",
       "  </tbody>\n",
       "</table>\n",
       "</div>"
      ],
      "text/plain": [
       "       N° de factura    Fecha de factura            País  Monto\n",
       "count          25953               25953           25953  25953\n",
       "unique         25900               23260              38  17540\n",
       "top           542217  5/10/2021 15:05:00  United Kingdom   0,00\n",
       "freq               2                   6           23542   2105"
      ]
     },
     "metadata": {},
     "output_type": "display_data"
    },
    {
     "name": "stdout",
     "output_type": "stream",
     "text": [
      "\n",
      "Valores nulos por columna:\n",
      "N° de factura          0\n",
      "Fecha de factura       0\n",
      "ID Cliente          3724\n",
      "País                   0\n",
      "Cantidad               0\n",
      "Monto                  0\n",
      "dtype: int64\n",
      "\n",
      "Distribución de países:\n"
     ]
    },
    {
     "data": {
      "application/vnd.microsoft.datawrangler.viewer.v0+json": {
       "columns": [
        {
         "name": "País",
         "rawType": "object",
         "type": "string"
        },
        {
         "name": "count",
         "rawType": "int64",
         "type": "integer"
        }
       ],
       "ref": "db770b5f-2438-46bd-a11c-95ce18655d50",
       "rows": [
        [
         "United Kingdom",
         "23542"
        ],
        [
         "Germany",
         "603"
        ],
        [
         "France",
         "462"
        ],
        [
         "EIRE",
         "362"
        ],
        [
         "Belgium",
         "119"
        ],
        [
         "Spain",
         "105"
        ],
        [
         "Netherlands",
         "101"
        ],
        [
         "Switzerland",
         "74"
        ],
        [
         "Portugal",
         "71"
        ],
        [
         "Australia",
         "69"
        ],
        [
         "Italy",
         "55"
        ],
        [
         "Finland",
         "48"
        ],
        [
         "Sweden",
         "46"
        ],
        [
         "Norway",
         "40"
        ],
        [
         "Channel Islands",
         "34"
        ],
        [
         "Japan",
         "29"
        ],
        [
         "Poland",
         "24"
        ],
        [
         "Denmark",
         "21"
        ],
        [
         "Cyprus",
         "20"
        ],
        [
         "Austria",
         "19"
        ],
        [
         "Hong Kong",
         "15"
        ],
        [
         "Unspecified",
         "13"
        ],
        [
         "Malta",
         "10"
        ],
        [
         "Singapore",
         "10"
        ],
        [
         "Israel",
         "9"
        ],
        [
         "USA",
         "7"
        ],
        [
         "Iceland",
         "7"
        ],
        [
         "Greece",
         "6"
        ],
        [
         "Canada",
         "6"
        ],
        [
         "Czech Republic",
         "5"
        ],
        [
         "European Community",
         "5"
        ],
        [
         "Lithuania",
         "4"
        ],
        [
         "Bahrain",
         "4"
        ],
        [
         "United Arab Emirates",
         "3"
        ],
        [
         "Saudi Arabia",
         "2"
        ],
        [
         "Lebanon",
         "1"
        ],
        [
         "RSA",
         "1"
        ],
        [
         "Brazil",
         "1"
        ]
       ],
       "shape": {
        "columns": 1,
        "rows": 38
       }
      },
      "text/plain": [
       "País\n",
       "United Kingdom          23542\n",
       "Germany                   603\n",
       "France                    462\n",
       "EIRE                      362\n",
       "Belgium                   119\n",
       "Spain                     105\n",
       "Netherlands               101\n",
       "Switzerland                74\n",
       "Portugal                   71\n",
       "Australia                  69\n",
       "Italy                      55\n",
       "Finland                    48\n",
       "Sweden                     46\n",
       "Norway                     40\n",
       "Channel Islands            34\n",
       "Japan                      29\n",
       "Poland                     24\n",
       "Denmark                    21\n",
       "Cyprus                     20\n",
       "Austria                    19\n",
       "Hong Kong                  15\n",
       "Unspecified                13\n",
       "Malta                      10\n",
       "Singapore                  10\n",
       "Israel                      9\n",
       "USA                         7\n",
       "Iceland                     7\n",
       "Greece                      6\n",
       "Canada                      6\n",
       "Czech Republic              5\n",
       "European Community          5\n",
       "Lithuania                   4\n",
       "Bahrain                     4\n",
       "United Arab Emirates        3\n",
       "Saudi Arabia                2\n",
       "Lebanon                     1\n",
       "RSA                         1\n",
       "Brazil                      1\n",
       "Name: count, dtype: int64"
      ]
     },
     "metadata": {},
     "output_type": "display_data"
    },
    {
     "data": {
      "image/png": "[encoded data removed]",
      "text/plain": [
       "<Figure size 800x400 with 1 Axes>"
      ]
     },
     "metadata": {},
     "output_type": "display_data"
    },
    {
     "data": {
      "image/png": "[encoded data removed]",
      "text/plain": [
       "<Figure size 800x400 with 1 Axes>"
      ]
     },
     "metadata": {},
     "output_type": "display_data"
    }
   ],
   "source": [
    "# Información general del DataFrame\n",
    "print(\"Información general:\")\n",
    "df.info()\n",
    "print(\"\\nPrimeras filas:\")\n",
    "display(df.head())\n",
    "\n",
    "# Estadísticas descriptivas para columnas numéricas y de tipo objeto\n",
    "print(\"\\nEstadísticas descriptivas (numéricas):\")\n",
    "display(df.describe())\n",
    "\n",
    "print(\"\\nEstadísticas descriptivas (objetos):\")\n",
    "display(df.describe(include=['object']))\n",
    "\n",
    "# Verificar valores nulos\n",
    "print(\"\\nValores nulos por columna:\")\n",
    "print(df.isnull().sum())\n",
    "\n",
    "# Distribución de la columna 'País'\n",
    "print(\"\\nDistribución de países:\")\n",
    "display(df['País'].value_counts())\n",
    "\n",
    "# Histograma de la columna 'Cantidad'\n",
    "plt.figure(figsize=(8,4))\n",
    "sns.histplot(df['Cantidad'], bins=30, kde=True)\n",
    "plt.title('Distribución de Cantidad')\n",
    "plt.xlabel('Cantidad')\n",
    "plt.ylabel('Frecuencia')\n",
    "plt.show()\n",
    "\n",
    "# Conversión y análisis de la columna 'Monto'\n",
    "df['Monto_num'] = df['Monto'].str.replace(',', '.').astype(float)\n",
    "plt.figure(figsize=(8,4))\n",
    "sns.histplot(df['Monto_num'], bins=30, kde=True)\n",
    "plt.title('Distribución de Monto')\n",
    "plt.xlabel('Monto (€)')\n",
    "plt.ylabel('Frecuencia')\n",
    "plt.show()"
   ]
  }
 ],
 "metadata": {
  "kernelspec": {
   "display_name": "curso_pro_IA",
   "language": "python",
   "name": "python3"
  },
  "language_info": {
   "codemirror_mode": {
    "name": "ipython",
    "version": 3
   },
   "file_extension": ".py",
   "mimetype": "text/x-python",
   "name": "python",
   "nbconvert_exporter": "python",
   "pygments_lexer": "ipython3",
   "version": "3.13.7"
  }
 },
 "nbformat": 4,
 "nbformat_minor": 5
}
